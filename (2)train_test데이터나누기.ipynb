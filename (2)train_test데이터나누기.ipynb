{
  "nbformat": 4,
  "nbformat_minor": 0,
  "metadata": {
    "colab": {
      "name": "(2)train_test데이터나누기",
      "provenance": [],
      "authorship_tag": "ABX9TyNirb7AkrT51ERHUhoyJntd",
      "include_colab_link": true
    },
    "kernelspec": {
      "name": "python3",
      "display_name": "Python 3"
    }
  },
  "cells": [
    {
      "cell_type": "markdown",
      "metadata": {
        "id": "view-in-github",
        "colab_type": "text"
      },
      "source": [
        "<a href=\"https://colab.research.google.com/github/misogynyX/Data_reclassification/blob/master/(2)train_test%EB%8D%B0%EC%9D%B4%ED%84%B0%EB%82%98%EB%88%84%EA%B8%B0.ipynb\" target=\"_parent\"><img src=\"https://colab.research.google.com/assets/colab-badge.svg\" alt=\"Open In Colab\"/></a>"
      ]
    },
    {
      "cell_type": "code",
      "metadata": {
        "id": "Q4XyKsDWLEc4",
        "colab_type": "code",
        "colab": {}
      },
      "source": [
        "from google.colab import files\n",
        "import pickle"
      ],
      "execution_count": 0,
      "outputs": []
    },
    {
      "cell_type": "code",
      "metadata": {
        "id": "xqAhegEnLFud",
        "colab_type": "code",
        "colab": {}
      },
      "source": [
        "import numpy as np\n",
        "from copy import copy"
      ],
      "execution_count": 0,
      "outputs": []
    },
    {
      "cell_type": "code",
      "metadata": {
        "id": "o8saQKiZLFsk",
        "colab_type": "code",
        "colab": {}
      },
      "source": [
        "def load_df(root):\n",
        "  \"\"\" \n",
        "  input : (str) 피클 저장 경로\n",
        "  output : (dataframe) 오분류처리.ipynb을 이용하여 articles.csv 를 재분류한 DataFrame\n",
        "  \n",
        "  오분류처리.ipynb을 이용하여 articles.csv 를 재분류한 DataFrame 을 저장한 피클 파일 저장 경로를 받아 DafaFrame 객체를 로드한다 \n",
        "  \n",
        "  \"\"\"\n",
        "  \n",
        "  with open(root,'rb') as reclassification_DF:\n",
        "    data = pickle.load(reclassification_DF)\n",
        "  return data"
      ],
      "execution_count": 0,
      "outputs": []
    },
    {
      "cell_type": "code",
      "metadata": {
        "id": "lHdnlIuhLFqD",
        "colab_type": "code",
        "colab": {}
      },
      "source": [
        "sample_test = load_df('/content/drive/My Drive/Colab Notebooks/NLP_again_project/recl_data.pickle')"
      ],
      "execution_count": 0,
      "outputs": []
    },
    {
      "cell_type": "code",
      "metadata": {
        "id": "bFqAYHiZLFoP",
        "colab_type": "code",
        "colab": {}
      },
      "source": [
        "sample_test.head()"
      ],
      "execution_count": 0,
      "outputs": []
    },
    {
      "cell_type": "code",
      "metadata": {
        "id": "JQD8aCqwLFmB",
        "colab_type": "code",
        "colab": {}
      },
      "source": [
        "def csv_to_file(root, ratio, _DataFrame):\n",
        "  \"\"\"\n",
        "  input : \n",
        "  - root: (str) 파일을 저장할 폴더 경로\n",
        "  - ratio: (float) 전체 데이터 크기 대비 train data 의 비율 ( 0.8 -> train : test = 80 : 20 )\n",
        "  - _DafaFrame : (pandas.DataFrame) 전체 데이터셋이 저장되어 있는 dataframe 객체\n",
        "\n",
        "  데이터셋 dataframe을 받아 train_data.csv 와 test_data.csv 파일로 나눠서 저장한다.\n",
        "  \n",
        "  \"\"\"\n",
        "\n",
        "  a = int(len(data)*ratio)\n",
        "\n",
        "  train_df = data[:a]\n",
        "  test_df = data[a:]\n",
        "\n",
        "  trainPATH = root + 'train_data.csv'\n",
        "  testPATH = root + 'test_data.csv'\n",
        "\n",
        "  train_df.to_csv(trainPATH, index=False)\n",
        "  test_df.to_csv(testPATH, index=False)"
      ],
      "execution_count": 0,
      "outputs": []
    },
    {
      "cell_type": "code",
      "metadata": {
        "id": "QJkG_OCCLFj1",
        "colab_type": "code",
        "colab": {}
      },
      "source": [
        "savePATH = '/content/drive/My Drive/Colab Notebooks/NLP_again_project/'\n",
        "csv_to_file(savePATH, 0.8, sample_test)"
      ],
      "execution_count": 0,
      "outputs": []
    },
    {
      "cell_type": "code",
      "metadata": {
        "id": "OseLqvU3LFhv",
        "colab_type": "code",
        "colab": {}
      },
      "source": [
        ""
      ],
      "execution_count": 0,
      "outputs": []
    }
  ]
}